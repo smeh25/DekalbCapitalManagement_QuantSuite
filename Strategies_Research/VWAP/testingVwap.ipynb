{
 "cells": [
  {
   "cell_type": "code",
   "execution_count": 1,
   "id": "470338e0",
   "metadata": {},
   "outputs": [],
   "source": [
    "import vwap "
   ]
  },
  {
   "cell_type": "code",
   "execution_count": 2,
   "id": "fe84a580",
   "metadata": {},
   "outputs": [
    {
     "data": {
      "text/plain": [
       "Date\n",
       "2025-08-12 00:00:00-04:00    229.173335\n",
       "2025-08-13 00:00:00-04:00    231.259402\n",
       "2025-08-14 00:00:00-04:00    231.744345\n",
       "2025-08-15 00:00:00-04:00    231.742502\n",
       "Name: VWAP, dtype: float64"
      ]
     },
     "execution_count": 2,
     "metadata": {},
     "output_type": "execute_result"
    }
   ],
   "source": [
    "historyAAPL = vwap.getVWAPSpecificData(\"AAPL\", 5)\n",
    "historyAAPL[\"VWAP\"] = vwap.computeVWAP(historyAAPL)\n",
    "historyAAPL[\"VWAP\"]"
   ]
  },
  {
   "cell_type": "code",
   "execution_count": 3,
   "id": "2cb0271b",
   "metadata": {},
   "outputs": [
    {
     "data": {
      "text/html": [
       "<div>\n",
       "<style scoped>\n",
       "    .dataframe tbody tr th:only-of-type {\n",
       "        vertical-align: middle;\n",
       "    }\n",
       "\n",
       "    .dataframe tbody tr th {\n",
       "        vertical-align: top;\n",
       "    }\n",
       "\n",
       "    .dataframe thead th {\n",
       "        text-align: right;\n",
       "    }\n",
       "</style>\n",
       "<table border=\"1\" class=\"dataframe\">\n",
       "  <thead>\n",
       "    <tr style=\"text-align: right;\">\n",
       "      <th></th>\n",
       "      <th>Open</th>\n",
       "      <th>High</th>\n",
       "      <th>Low</th>\n",
       "      <th>Close</th>\n",
       "      <th>Volume</th>\n",
       "      <th>Dividends</th>\n",
       "      <th>Stock Splits</th>\n",
       "      <th>VWAP</th>\n",
       "    </tr>\n",
       "    <tr>\n",
       "      <th>Date</th>\n",
       "      <th></th>\n",
       "      <th></th>\n",
       "      <th></th>\n",
       "      <th></th>\n",
       "      <th></th>\n",
       "      <th></th>\n",
       "      <th></th>\n",
       "      <th></th>\n",
       "    </tr>\n",
       "  </thead>\n",
       "  <tbody>\n",
       "    <tr>\n",
       "      <th>2025-08-12 00:00:00-04:00</th>\n",
       "      <td>228.009995</td>\n",
       "      <td>230.800003</td>\n",
       "      <td>227.070007</td>\n",
       "      <td>229.649994</td>\n",
       "      <td>55626200</td>\n",
       "      <td>0.0</td>\n",
       "      <td>0.0</td>\n",
       "      <td>229.173335</td>\n",
       "    </tr>\n",
       "    <tr>\n",
       "      <th>2025-08-13 00:00:00-04:00</th>\n",
       "      <td>231.070007</td>\n",
       "      <td>235.000000</td>\n",
       "      <td>230.429993</td>\n",
       "      <td>233.330002</td>\n",
       "      <td>69878500</td>\n",
       "      <td>0.0</td>\n",
       "      <td>0.0</td>\n",
       "      <td>231.259402</td>\n",
       "    </tr>\n",
       "    <tr>\n",
       "      <th>2025-08-14 00:00:00-04:00</th>\n",
       "      <td>234.059998</td>\n",
       "      <td>235.119995</td>\n",
       "      <td>230.850006</td>\n",
       "      <td>232.779999</td>\n",
       "      <td>51916300</td>\n",
       "      <td>0.0</td>\n",
       "      <td>0.0</td>\n",
       "      <td>231.744345</td>\n",
       "    </tr>\n",
       "    <tr>\n",
       "      <th>2025-08-15 00:00:00-04:00</th>\n",
       "      <td>234.000000</td>\n",
       "      <td>234.279999</td>\n",
       "      <td>229.339996</td>\n",
       "      <td>231.589996</td>\n",
       "      <td>56010500</td>\n",
       "      <td>0.0</td>\n",
       "      <td>0.0</td>\n",
       "      <td>231.742502</td>\n",
       "    </tr>\n",
       "  </tbody>\n",
       "</table>\n",
       "</div>"
      ],
      "text/plain": [
       "                                 Open        High         Low       Close  \\\n",
       "Date                                                                        \n",
       "2025-08-12 00:00:00-04:00  228.009995  230.800003  227.070007  229.649994   \n",
       "2025-08-13 00:00:00-04:00  231.070007  235.000000  230.429993  233.330002   \n",
       "2025-08-14 00:00:00-04:00  234.059998  235.119995  230.850006  232.779999   \n",
       "2025-08-15 00:00:00-04:00  234.000000  234.279999  229.339996  231.589996   \n",
       "\n",
       "                             Volume  Dividends  Stock Splits        VWAP  \n",
       "Date                                                                      \n",
       "2025-08-12 00:00:00-04:00  55626200        0.0           0.0  229.173335  \n",
       "2025-08-13 00:00:00-04:00  69878500        0.0           0.0  231.259402  \n",
       "2025-08-14 00:00:00-04:00  51916300        0.0           0.0  231.744345  \n",
       "2025-08-15 00:00:00-04:00  56010500        0.0           0.0  231.742502  "
      ]
     },
     "execution_count": 3,
     "metadata": {},
     "output_type": "execute_result"
    }
   ],
   "source": [
    "historyAAPL"
   ]
  },
  {
   "cell_type": "code",
   "execution_count": 6,
   "id": "cb0d115c",
   "metadata": {},
   "outputs": [
    {
     "name": "stdout",
     "output_type": "stream",
     "text": [
      "Send a short order\n"
     ]
    }
   ],
   "source": [
    "import asyncio\n",
    "lastVwap = historyAAPL[\"VWAP\"].iloc[-1]\n",
    "await vwap.vwapCheck(229.25, lastVwap, is_async=False)"
   ]
  },
  {
   "cell_type": "markdown",
   "id": "3e419639",
   "metadata": {},
   "source": [
    "Things left to do:\n",
    "- Grab the opening price the minute the market opens\n",
    "- Output json with position sizing and other paremeters specified\n",
    "- Want this to calculate multiple times over different basket of stocks "
   ]
  }
 ],
 "metadata": {
  "kernelspec": {
   "display_name": "Python 3",
   "language": "python",
   "name": "python3"
  },
  "language_info": {
   "codemirror_mode": {
    "name": "ipython",
    "version": 3
   },
   "file_extension": ".py",
   "mimetype": "text/x-python",
   "name": "python",
   "nbconvert_exporter": "python",
   "pygments_lexer": "ipython3",
   "version": "3.11.6"
  }
 },
 "nbformat": 4,
 "nbformat_minor": 5
}
