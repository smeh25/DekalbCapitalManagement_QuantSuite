{
 "cells": [
  {
   "cell_type": "code",
   "execution_count": 1,
   "id": "470338e0",
   "metadata": {},
   "outputs": [],
   "source": [
    "import vwap "
   ]
  },
  {
   "cell_type": "code",
   "execution_count": 2,
   "id": "fe84a580",
   "metadata": {},
   "outputs": [
    {
     "data": {
      "text/plain": [
       "Date\n",
       "2025-08-08 00:00:00-04:00    226.276534\n",
       "2025-08-11 00:00:00-04:00    226.589726\n",
       "2025-08-12 00:00:00-04:00    227.211104\n",
       "Name: VWAP, dtype: float64"
      ]
     },
     "execution_count": 2,
     "metadata": {},
     "output_type": "execute_result"
    }
   ],
   "source": [
    "historyAAPL = vwap.getVWAPSpecificData(\"AAPL\", 5)\n",
    "historyAAPL[\"VWAP\"] = vwap.computeVWAP(historyAAPL)\n",
    "historyAAPL[\"VWAP\"]"
   ]
  },
  {
   "cell_type": "code",
   "execution_count": 3,
   "id": "2cb0271b",
   "metadata": {},
   "outputs": [
    {
     "data": {
      "text/html": [
       "<div>\n",
       "<style scoped>\n",
       "    .dataframe tbody tr th:only-of-type {\n",
       "        vertical-align: middle;\n",
       "    }\n",
       "\n",
       "    .dataframe tbody tr th {\n",
       "        vertical-align: top;\n",
       "    }\n",
       "\n",
       "    .dataframe thead th {\n",
       "        text-align: right;\n",
       "    }\n",
       "</style>\n",
       "<table border=\"1\" class=\"dataframe\">\n",
       "  <thead>\n",
       "    <tr style=\"text-align: right;\">\n",
       "      <th></th>\n",
       "      <th>Open</th>\n",
       "      <th>High</th>\n",
       "      <th>Low</th>\n",
       "      <th>Close</th>\n",
       "      <th>Volume</th>\n",
       "      <th>Dividends</th>\n",
       "      <th>Stock Splits</th>\n",
       "      <th>VWAP</th>\n",
       "    </tr>\n",
       "    <tr>\n",
       "      <th>Date</th>\n",
       "      <th></th>\n",
       "      <th></th>\n",
       "      <th></th>\n",
       "      <th></th>\n",
       "      <th></th>\n",
       "      <th></th>\n",
       "      <th></th>\n",
       "      <th></th>\n",
       "    </tr>\n",
       "  </thead>\n",
       "  <tbody>\n",
       "    <tr>\n",
       "      <th>2025-08-08 00:00:00-04:00</th>\n",
       "      <td>220.579666</td>\n",
       "      <td>230.738135</td>\n",
       "      <td>219.001455</td>\n",
       "      <td>229.090012</td>\n",
       "      <td>113854000</td>\n",
       "      <td>0.00</td>\n",
       "      <td>0.0</td>\n",
       "      <td>226.276534</td>\n",
       "    </tr>\n",
       "    <tr>\n",
       "      <th>2025-08-11 00:00:00-04:00</th>\n",
       "      <td>227.919998</td>\n",
       "      <td>229.559998</td>\n",
       "      <td>224.759995</td>\n",
       "      <td>227.179993</td>\n",
       "      <td>61806100</td>\n",
       "      <td>0.26</td>\n",
       "      <td>0.0</td>\n",
       "      <td>226.589726</td>\n",
       "    </tr>\n",
       "    <tr>\n",
       "      <th>2025-08-12 00:00:00-04:00</th>\n",
       "      <td>228.009995</td>\n",
       "      <td>230.800003</td>\n",
       "      <td>227.070007</td>\n",
       "      <td>229.649994</td>\n",
       "      <td>55626200</td>\n",
       "      <td>0.00</td>\n",
       "      <td>0.0</td>\n",
       "      <td>227.211104</td>\n",
       "    </tr>\n",
       "  </tbody>\n",
       "</table>\n",
       "</div>"
      ],
      "text/plain": [
       "                                 Open        High         Low       Close  \\\n",
       "Date                                                                        \n",
       "2025-08-08 00:00:00-04:00  220.579666  230.738135  219.001455  229.090012   \n",
       "2025-08-11 00:00:00-04:00  227.919998  229.559998  224.759995  227.179993   \n",
       "2025-08-12 00:00:00-04:00  228.009995  230.800003  227.070007  229.649994   \n",
       "\n",
       "                              Volume  Dividends  Stock Splits        VWAP  \n",
       "Date                                                                       \n",
       "2025-08-08 00:00:00-04:00  113854000       0.00           0.0  226.276534  \n",
       "2025-08-11 00:00:00-04:00   61806100       0.26           0.0  226.589726  \n",
       "2025-08-12 00:00:00-04:00   55626200       0.00           0.0  227.211104  "
      ]
     },
     "execution_count": 3,
     "metadata": {},
     "output_type": "execute_result"
    }
   ],
   "source": [
    "historyAAPL"
   ]
  },
  {
   "cell_type": "code",
   "execution_count": 5,
   "id": "cb0d115c",
   "metadata": {},
   "outputs": [
    {
     "name": "stdout",
     "output_type": "stream",
     "text": [
      "Send a long order\n"
     ]
    }
   ],
   "source": [
    "lastVwap = historyAAPL[\"VWAP\"].iloc[-1]\n",
    "vwap.vwapCheck(229.25, lastVwap)"
   ]
  },
  {
   "cell_type": "markdown",
   "id": "3e419639",
   "metadata": {},
   "source": [
    "Things left to do:\n",
    "- Grab the opening price the minute the market opens\n",
    "- Output json with position sizing and other paremeters specified\n",
    "- Want this to calculate multiple times over different basket of stocks "
   ]
  }
 ],
 "metadata": {
  "kernelspec": {
   "display_name": "Python 3",
   "language": "python",
   "name": "python3"
  },
  "language_info": {
   "codemirror_mode": {
    "name": "ipython",
    "version": 3
   },
   "file_extension": ".py",
   "mimetype": "text/x-python",
   "name": "python",
   "nbconvert_exporter": "python",
   "pygments_lexer": "ipython3",
   "version": "3.11.6"
  }
 },
 "nbformat": 4,
 "nbformat_minor": 5
}
